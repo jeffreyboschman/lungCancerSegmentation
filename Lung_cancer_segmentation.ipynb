{
  "nbformat": 4,
  "nbformat_minor": 0,
  "metadata": {
    "colab": {
      "name": "Lung_cancer_segmentation.ipynb",
      "provenance": [],
      "collapsed_sections": []
    },
    "kernelspec": {
      "name": "python3",
      "display_name": "Python 3"
    },
    "language_info": {
      "name": "python"
    }
  },
  "cells": [
    {
      "cell_type": "markdown",
      "metadata": {
        "id": "44d7ETPBmuaL"
      },
      "source": [
        "Install the necessary libraries and import the necessary packages"
      ]
    },
    {
      "cell_type": "code",
      "metadata": {
        "colab": {
          "base_uri": "https://localhost:8080/"
        },
        "id": "XFs03-GR8K3J",
        "outputId": "2b542a0c-fccc-4c6f-f2f7-185b7de53af7"
      },
      "source": [
        "!apt-get install p7zip-full\n",
        "\n",
        "!pip install 'SimpleITK==2.0.2'\n",
        "!pip install 'diskcache==5.2.1'\n",
        "!pip install 'cassandra-driver==3.25.0'"
      ],
      "execution_count": 3,
      "outputs": [
        {
          "output_type": "stream",
          "text": [
            "Reading package lists... Done\n",
            "Building dependency tree       \n",
            "Reading state information... Done\n",
            "p7zip-full is already the newest version (16.02+dfsg-6).\n",
            "0 upgraded, 0 newly installed, 0 to remove and 39 not upgraded.\n",
            "Collecting SimpleITK==2.0.2\n",
            "\u001b[?25l  Downloading https://files.pythonhosted.org/packages/9c/6b/85df5eb3a8059b23a53a9f224476e75473f9bcc0a8583ed1a9c34619f372/SimpleITK-2.0.2-cp37-cp37m-manylinux2010_x86_64.whl (47.4MB)\n",
            "\u001b[K     |████████████████████████████████| 47.4MB 92kB/s \n",
            "\u001b[?25hInstalling collected packages: SimpleITK\n",
            "Successfully installed SimpleITK-2.0.2\n",
            "Collecting diskcache==5.2.1\n",
            "\u001b[?25l  Downloading https://files.pythonhosted.org/packages/6a/5e/3deb8f9c83bead2af6f2cda97c4400516488464fede2853875a81e502953/diskcache-5.2.1-py3-none-any.whl (44kB)\n",
            "\u001b[K     |████████████████████████████████| 51kB 4.4MB/s \n",
            "\u001b[?25hInstalling collected packages: diskcache\n",
            "Successfully installed diskcache-5.2.1\n",
            "Collecting cassandra-driver==3.25.0\n",
            "\u001b[?25l  Downloading https://files.pythonhosted.org/packages/5c/85/2b87a18870e6c457a762cea58920a42c5d357b3e9ef3a6f94b978429ec15/cassandra_driver-3.25.0-cp37-cp37m-manylinux1_x86_64.whl (3.8MB)\n",
            "\u001b[K     |████████████████████████████████| 3.8MB 6.9MB/s \n",
            "\u001b[?25hCollecting geomet<0.3,>=0.1\n",
            "  Downloading https://files.pythonhosted.org/packages/c9/81/156ca48f950f833ddc392f8e3677ca50a18cb9d5db38ccb4ecea55a9303f/geomet-0.2.1.post1-py3-none-any.whl\n",
            "Requirement already satisfied: six>=1.9 in /usr/local/lib/python3.7/dist-packages (from cassandra-driver==3.25.0) (1.15.0)\n",
            "Requirement already satisfied: click in /usr/local/lib/python3.7/dist-packages (from geomet<0.3,>=0.1->cassandra-driver==3.25.0) (7.1.2)\n",
            "Installing collected packages: geomet, cassandra-driver\n",
            "Successfully installed cassandra-driver-3.25.0 geomet-0.2.1.post1\n"
          ],
          "name": "stdout"
        }
      ]
    },
    {
      "cell_type": "code",
      "metadata": {
        "colab": {
          "base_uri": "https://localhost:8080/"
        },
        "id": "U6wUMQEj2Fxi",
        "outputId": "359fa572-9c11-43fb-f821-0744aa69f854"
      },
      "source": [
        "#data from: https://luna16.grand-challenge.org/Download/\n",
        "!wget -c -O zipped_subset_0.zip https://zenodo.org/record/3723295/files/subset0.zip?download=1\n",
        "!mkdir /content/data\n",
        "!7z e zipped_subset_0.zip -o/content/data/subset_0 #unzips files "
      ],
      "execution_count": 7,
      "outputs": [
        {
          "output_type": "stream",
          "text": [
            "--2021-06-10 20:24:28--  https://zenodo.org/record/3723295/files/subset0.zip?download=1\n",
            "Resolving zenodo.org (zenodo.org)... 137.138.76.77\n",
            "Connecting to zenodo.org (zenodo.org)|137.138.76.77|:443... connected.\n",
            "HTTP request sent, awaiting response... 200 OK\n",
            "Length: 6811924508 (6.3G) [application/octet-stream]\n",
            "Saving to: ‘zipped_subset_0.zip’\n",
            "\n",
            "zipped_subset_0.zip 100%[===================>]   6.34G  18.1MB/s    in 7m 44s  \n",
            "\n",
            "2021-06-10 20:32:13 (14.0 MB/s) - ‘zipped_subset_0.zip’ saved [6811924508/6811924508]\n",
            "\n"
          ],
          "name": "stdout"
        }
      ]
    },
    {
      "cell_type": "code",
      "metadata": {
        "id": "UnewE-N9peK9",
        "colab": {
          "base_uri": "https://localhost:8080/"
        },
        "outputId": "54198b01-3b64-4a7b-9c8f-19294f7b26c3"
      },
      "source": [
        "#clone the github repository to access the .py files and others\n",
        "!rm -rf lungCancerSegmentation/\n",
        "!git clone https://github.com/jeffreyboschman/lungCancerSegmentation.git"
      ],
      "execution_count": 4,
      "outputs": [
        {
          "output_type": "stream",
          "text": [
            "Cloning into 'lungCancerSegmentation'...\n",
            "remote: Enumerating objects: 99, done.\u001b[K\n",
            "remote: Counting objects: 100% (99/99), done.\u001b[K\n",
            "remote: Compressing objects: 100% (78/78), done.\u001b[K\n",
            "remote: Total 99 (delta 49), reused 62 (delta 19), pack-reused 0\u001b[K\n",
            "Unpacking objects: 100% (99/99), done.\n"
          ],
          "name": "stdout"
        }
      ]
    },
    {
      "cell_type": "markdown",
      "metadata": {
        "id": "WntktA57AC3_"
      },
      "source": [
        "Exploring the data"
      ]
    },
    {
      "cell_type": "code",
      "metadata": {
        "id": "mo2Gw_ePnZoM"
      },
      "source": [
        "#import packages and modules\n",
        "import SimpleITK as sitk\n",
        "import numpy as np\n",
        "from lungCancerSegmentation.code.datasets import getCandidateInfoList, getCt, LunaDataset\n",
        "from lungCancerSegmentation.code.vis import findPositiveSamples, showCandidate\n"
      ],
      "execution_count": 21,
      "outputs": []
    },
    {
      "cell_type": "code",
      "metadata": {
        "id": "TFJNgs4erLqb",
        "outputId": "6b9266c1-8471-436e-bc0c-07a7987011cb",
        "colab": {
          "base_uri": "https://localhost:8080/"
        }
      },
      "source": [
        "candidateInfo_list = getCandidateInfoList(requireOnDisk_bool=True)\n",
        "positiveInfo_list = [x for x in candidateInfo_list if x[0]]\n",
        "diameter_list = [x[1] for x in positiveInfo_list]\n",
        "print(len(positiveInfo_list))\n",
        "print(positiveInfo_list[0]) #to see what a positive candidate tuple contains"
      ],
      "execution_count": 29,
      "outputs": [
        {
          "output_type": "stream",
          "text": [
            "122\n",
            "CandidateInfoTuple(isNodule_bool=True, diameter_mm=25.23320204, series_uid='1.3.6.1.4.1.14519.5.2.1.6279.6001.511347030803753100045216493273', center_xyz=(63.4740118048, 73.9174523314, -213.736128767))\n"
          ],
          "name": "stdout"
        }
      ]
    },
    {
      "cell_type": "code",
      "metadata": {
        "id": "eJQYGNvIAPaX",
        "colab": {
          "base_uri": "https://localhost:8080/"
        },
        "outputId": "c6ad1650-fdce-453b-a011-b54b3a0224bc"
      },
      "source": [
        "#see the distribution of nodule sizes in the dataset\n",
        "for i in range(0, len(diameter_list), 100):\n",
        "    print('{:4}  {:4.1f} mm'.format(i, diameter_list[i]))"
      ],
      "execution_count": 30,
      "outputs": [
        {
          "output_type": "stream",
          "text": [
            "   0  25.2 mm\n",
            " 100   0.0 mm\n"
          ],
          "name": "stdout"
        }
      ]
    },
    {
      "cell_type": "code",
      "metadata": {
        "id": "bKbVM9ZbAa5e",
        "colab": {
          "base_uri": "https://localhost:8080/"
        },
        "outputId": "d8c9be40-2cf6-48b0-dbaa-ebe1611ba657"
      },
      "source": [
        "np.histogram(diameter_list)"
      ],
      "execution_count": 31,
      "outputs": [
        {
          "output_type": "execute_result",
          "data": {
            "text/plain": [
              "(array([26, 11, 41, 15, 11,  8,  3,  5,  1,  1]),\n",
              " array([ 0.        ,  2.5233202 ,  5.04664041,  7.56996061, 10.09328082,\n",
              "        12.61660102, 15.13992122, 17.66324143, 20.18656163, 22.70988184,\n",
              "        25.23320204]))"
            ]
          },
          "metadata": {
            "tags": []
          },
          "execution_count": 31
        }
      ]
    },
    {
      "cell_type": "code",
      "metadata": {
        "id": "QalpXn6msWKO",
        "outputId": "4a0b1e54-c625-4909-f54e-56e76e25947f",
        "colab": {
          "base_uri": "https://localhost:8080/"
        }
      },
      "source": [
        "positiveSample_list = findPositiveSamples() #similar to positiveInfo_list, but we can specify the start index and limit (default start_ndx=0, limit=100)\n"
      ],
      "execution_count": 32,
      "outputs": [
        {
          "output_type": "stream",
          "text": [
            "2021-06-10 20:54:51,419 INFO     pid:62 lungCancerSegmentation.code.datasets:174:__init__ <lungCancerSegmentation.code.datasets.LunaDataset object at 0x7fbb4256a790>: 56938 training samples\n"
          ],
          "name": "stderr"
        },
        {
          "output_type": "stream",
          "text": [
            "0 CandidateInfoTuple(isNodule_bool=True, diameter_mm=25.23320204, series_uid='1.3.6.1.4.1.14519.5.2.1.6279.6001.511347030803753100045216493273', center_xyz=(63.4740118048, 73.9174523314, -213.736128767))\n",
            "1 CandidateInfoTuple(isNodule_bool=True, diameter_mm=21.58311204, series_uid='1.3.6.1.4.1.14519.5.2.1.6279.6001.905371958588660410240398317235', center_xyz=(109.142472723, 49.6356928166, -121.183579092))\n",
            "2 CandidateInfoTuple(isNodule_bool=True, diameter_mm=19.65387738, series_uid='1.3.6.1.4.1.14519.5.2.1.6279.6001.752756872840730509471096155114', center_xyz=(56.1226132601, 67.868268695, -65.6269886453))\n",
            "3 CandidateInfoTuple(isNodule_bool=True, diameter_mm=18.7832325, series_uid='1.3.6.1.4.1.14519.5.2.1.6279.6001.202811684116768680758082619196', center_xyz=(-82.79150362, -21.43587141, -97.18427459))\n",
            "4 CandidateInfoTuple(isNodule_bool=True, diameter_mm=17.75323185, series_uid='1.3.6.1.4.1.14519.5.2.1.6279.6001.187451715205085403623595258748', center_xyz=(94.1132711884, -15.8936132585, -202.847228297))\n",
            "5 CandidateInfoTuple(isNodule_bool=True, diameter_mm=17.69382414, series_uid='1.3.6.1.4.1.14519.5.2.1.6279.6001.137763212752154081977261297097', center_xyz=(-78.2266125547, 180.542140994, -467.88476912))\n",
            "6 CandidateInfoTuple(isNodule_bool=True, diameter_mm=17.69382414, series_uid='1.3.6.1.4.1.14519.5.2.1.6279.6001.137763212752154081977261297097', center_xyz=(-82.01161135, 186.5539408, -467.9168457))\n",
            "7 CandidateInfoTuple(isNodule_bool=True, diameter_mm=17.52596027, series_uid='1.3.6.1.4.1.14519.5.2.1.6279.6001.227962600322799211676960828223', center_xyz=(75.0930413723, -0.51240559114, -58.1161965725))\n",
            "8 CandidateInfoTuple(isNodule_bool=True, diameter_mm=17.3362496, series_uid='1.3.6.1.4.1.14519.5.2.1.6279.6001.805925269324902055566754756843', center_xyz=(-66.8081081882, 97.0125969393, -267.863533051))\n",
            "9 CandidateInfoTuple(isNodule_bool=True, diameter_mm=15.48525426, series_uid='1.3.6.1.4.1.14519.5.2.1.6279.6001.154677396354641150280013275227', center_xyz=(-57.04638761, 131.2249427, -520.247305))\n",
            "10 CandidateInfoTuple(isNodule_bool=True, diameter_mm=14.62904955, series_uid='1.3.6.1.4.1.14519.5.2.1.6279.6001.534006575256943390479252771547', center_xyz=(58.1090454962, -23.8769340894, -69.490632328))\n",
            "11 CandidateInfoTuple(isNodule_bool=True, diameter_mm=13.96263215, series_uid='1.3.6.1.4.1.14519.5.2.1.6279.6001.213140617640021803112060161074', center_xyz=(53.8710070042, 139.156354144, -625.795207073))\n",
            "12 CandidateInfoTuple(isNodule_bool=True, diameter_mm=13.84883567, series_uid='1.3.6.1.4.1.14519.5.2.1.6279.6001.219909753224298157409438012179', center_xyz=(119.314454061, 19.1701643762, -155.143581615))\n",
            "13 CandidateInfoTuple(isNodule_bool=True, diameter_mm=13.59647134, series_uid='1.3.6.1.4.1.14519.5.2.1.6279.6001.109002525524522225658609808059', center_xyz=(46.00314143, 47.66525294, -108.4822128))\n",
            "14 CandidateInfoTuple(isNodule_bool=True, diameter_mm=13.14006008, series_uid='1.3.6.1.4.1.14519.5.2.1.6279.6001.313835996725364342034830119490', center_xyz=(-103.606170996, 5.07017220203, -45.0445111659))\n",
            "15 CandidateInfoTuple(isNodule_bool=True, diameter_mm=13.05335657, series_uid='1.3.6.1.4.1.14519.5.2.1.6279.6001.187451715205085403623595258748', center_xyz=(65.9819404529, 65.3748482043, -245.07371322))\n",
            "16 CandidateInfoTuple(isNodule_bool=True, diameter_mm=12.80135622, series_uid='1.3.6.1.4.1.14519.5.2.1.6279.6001.534006575256943390479252771547', center_xyz=(-92.8243371229, 62.3770624293, -95.1800403034))\n",
            "17 CandidateInfoTuple(isNodule_bool=True, diameter_mm=12.68580657, series_uid='1.3.6.1.4.1.14519.5.2.1.6279.6001.313334055029671473836954456733', center_xyz=(67.68450126, 44.02446338, -265.684528))\n",
            "18 CandidateInfoTuple(isNodule_bool=True, diameter_mm=12.57054118, series_uid='1.3.6.1.4.1.14519.5.2.1.6279.6001.334517907433161353885866806005', center_xyz=(-89.634569225, 208.2810558, -396.8074266))\n",
            "19 CandidateInfoTuple(isNodule_bool=True, diameter_mm=12.02215382, series_uid='1.3.6.1.4.1.14519.5.2.1.6279.6001.430109407146633213496148200410', center_xyz=(-45.86281408, -106.11146345, -147.91194395))\n",
            "20 CandidateInfoTuple(isNodule_bool=True, diameter_mm=11.64560862, series_uid='1.3.6.1.4.1.14519.5.2.1.6279.6001.525937963993475482158828421281', center_xyz=(127.2868873, 70.71304151, -91.86194784))\n",
            "21 CandidateInfoTuple(isNodule_bool=True, diameter_mm=11.48732767, series_uid='1.3.6.1.4.1.14519.5.2.1.6279.6001.621916089407825046337959219998', center_xyz=(-97.330389555, 45.02276113, -155.38801195))\n",
            "22 CandidateInfoTuple(isNodule_bool=True, diameter_mm=11.17547004, series_uid='1.3.6.1.4.1.14519.5.2.1.6279.6001.450501966058662668272378865145', center_xyz=(52.955066627, 21.5829057375, 232.603987857))\n",
            "23 CandidateInfoTuple(isNodule_bool=True, diameter_mm=11.13983165, series_uid='1.3.6.1.4.1.14519.5.2.1.6279.6001.137763212752154081977261297097', center_xyz=(-102.748428579, 154.846550311, -465.913693912))\n",
            "24 CandidateInfoTuple(isNodule_bool=True, diameter_mm=11.10051888, series_uid='1.3.6.1.4.1.14519.5.2.1.6279.6001.219087313261026510628926082729', center_xyz=(-64.88987189, 196.9697692, -469.20840415))\n",
            "25 CandidateInfoTuple(isNodule_bool=True, diameter_mm=10.98914009, series_uid='1.3.6.1.4.1.14519.5.2.1.6279.6001.511347030803753100045216493273', center_xyz=(-108.732902775, -38.2541652087, -199.158196279))\n",
            "26 CandidateInfoTuple(isNodule_bool=True, diameter_mm=10.93827513, series_uid='1.3.6.1.4.1.14519.5.2.1.6279.6001.188376349804761988217597754952', center_xyz=(-55.911605232, 175.416751344, -405.328583147))\n",
            "27 CandidateInfoTuple(isNodule_bool=True, diameter_mm=10.83118822, series_uid='1.3.6.1.4.1.14519.5.2.1.6279.6001.249530219848512542668813996730', center_xyz=(124.200923089, 65.8035261302, -210.521147465))\n",
            "28 CandidateInfoTuple(isNodule_bool=True, diameter_mm=10.4626083, series_uid='1.3.6.1.4.1.14519.5.2.1.6279.6001.128023902651233986592378348912', center_xyz=(34.1223242148, 87.8273440723, -100.189149775))\n",
            "29 CandidateInfoTuple(isNodule_bool=True, diameter_mm=10.06186005, series_uid='1.3.6.1.4.1.14519.5.2.1.6279.6001.250863365157630276148828903732', center_xyz=(-83.1930640477, -29.0767194265, -153.227780712))\n",
            "30 CandidateInfoTuple(isNodule_bool=True, diameter_mm=9.756615445, series_uid='1.3.6.1.4.1.14519.5.2.1.6279.6001.511347030803753100045216493273', center_xyz=(-85.0178411434, 23.7094197723, -220.666696981))\n",
            "31 CandidateInfoTuple(isNodule_bool=True, diameter_mm=9.443896197, series_uid='1.3.6.1.4.1.14519.5.2.1.6279.6001.317087518531899043292346860596', center_xyz=(-86.8206570956, -49.4777595251, -116.583770016))\n",
            "32 CandidateInfoTuple(isNodule_bool=True, diameter_mm=9.25825997, series_uid='1.3.6.1.4.1.14519.5.2.1.6279.6001.134996872583497382954024478441', center_xyz=(-86.23791683, 16.037327905, -70.24667756))\n",
            "33 CandidateInfoTuple(isNodule_bool=True, diameter_mm=9.253917448, series_uid='1.3.6.1.4.1.14519.5.2.1.6279.6001.305858704835252413616501469037', center_xyz=(22.744456585, 196.0703828, -367.29208485))\n",
            "34 CandidateInfoTuple(isNodule_bool=True, diameter_mm=8.982986958, series_uid='1.3.6.1.4.1.14519.5.2.1.6279.6001.194440094986948071643661798326', center_xyz=(56.38967842, -92.71316409, -275.8592896))\n",
            "35 CandidateInfoTuple(isNodule_bool=True, diameter_mm=8.621579517, series_uid='1.3.6.1.4.1.14519.5.2.1.6279.6001.139258777898746693365877042411', center_xyz=(-106.98605025, -177.74552385, -192.46801265))\n",
            "36 CandidateInfoTuple(isNodule_bool=True, diameter_mm=8.368487089, series_uid='1.3.6.1.4.1.14519.5.2.1.6279.6001.868211851413924881662621747734', center_xyz=(-81.68, 82.68, -167.4))\n",
            "37 CandidateInfoTuple(isNodule_bool=True, diameter_mm=8.364989395, series_uid='1.3.6.1.4.1.14519.5.2.1.6279.6001.310548927038333190233889983845', center_xyz=(-45.2427079881, 57.3521070453, -64.0080443316))\n",
            "38 CandidateInfoTuple(isNodule_bool=True, diameter_mm=8.244643239, series_uid='1.3.6.1.4.1.14519.5.2.1.6279.6001.334517907433161353885866806005', center_xyz=(-113.4793963, 127.8996568, -452.72309185))\n",
            "39 CandidateInfoTuple(isNodule_bool=True, diameter_mm=8.208342207, series_uid='1.3.6.1.4.1.14519.5.2.1.6279.6001.333145094436144085379032922488', center_xyz=(-36.68, 95.21, -230.94))\n",
            "40 CandidateInfoTuple(isNodule_bool=True, diameter_mm=8.091312581, series_uid='1.3.6.1.4.1.14519.5.2.1.6279.6001.716498695101447665580610403574', center_xyz=(-68.2895869858, -109.992924453, -96.9283020516))\n",
            "41 CandidateInfoTuple(isNodule_bool=True, diameter_mm=7.98502287, series_uid='1.3.6.1.4.1.14519.5.2.1.6279.6001.826812708000318290301835871780', center_xyz=(-42.25, -52.72, -128.45))\n",
            "42 CandidateInfoTuple(isNodule_bool=True, diameter_mm=7.903510371, series_uid='1.3.6.1.4.1.14519.5.2.1.6279.6001.294188507421106424248264912111', center_xyz=(120.42003855, 26.50582658, -282.61165745))\n",
            "43 CandidateInfoTuple(isNodule_bool=True, diameter_mm=7.888814398, series_uid='1.3.6.1.4.1.14519.5.2.1.6279.6001.134996872583497382954024478441', center_xyz=(-69.3825, 56.288020835, -81.68967418))\n",
            "44 CandidateInfoTuple(isNodule_bool=True, diameter_mm=7.418028913, series_uid='1.3.6.1.4.1.14519.5.2.1.6279.6001.430109407146633213496148200410', center_xyz=(97.47, -97.09, -215.49))\n",
            "45 CandidateInfoTuple(isNodule_bool=True, diameter_mm=7.310399552, series_uid='1.3.6.1.4.1.14519.5.2.1.6279.6001.979083010707182900091062408058', center_xyz=(-102.84092514, 57.8809154545, -124.815520253))\n",
            "46 CandidateInfoTuple(isNodule_bool=True, diameter_mm=7.283782817, series_uid='1.3.6.1.4.1.14519.5.2.1.6279.6001.534006575256943390479252771547', center_xyz=(125.05, -9.15, -208.18))\n",
            "47 CandidateInfoTuple(isNodule_bool=True, diameter_mm=7.244054524, series_uid='1.3.6.1.4.1.14519.5.2.1.6279.6001.724251104254976962355686318345', center_xyz=(-58.8, 147.35, -647.99))\n",
            "48 CandidateInfoTuple(isNodule_bool=True, diameter_mm=7.178922623, series_uid='1.3.6.1.4.1.14519.5.2.1.6279.6001.334517907433161353885866806005', center_xyz=(-104.863406042, 139.747617264, -448.370359496))\n",
            "49 CandidateInfoTuple(isNodule_bool=True, diameter_mm=7.165672419, series_uid='1.3.6.1.4.1.14519.5.2.1.6279.6001.323302986710576400812869264321', center_xyz=(-77.6742804778, 24.6389385283, -107.581430893))\n",
            "50 CandidateInfoTuple(isNodule_bool=True, diameter_mm=7.053719722, series_uid='1.3.6.1.4.1.14519.5.2.1.6279.6001.134996872583497382954024478441', center_xyz=(-84.3086034783, -42.2047464888, -146.649587983))\n",
            "51 CandidateInfoTuple(isNodule_bool=True, diameter_mm=7.000523906, series_uid='1.3.6.1.4.1.14519.5.2.1.6279.6001.295420274214095686326263147663', center_xyz=(-46.1961954943, 75.8948313553, -161.12479227))\n",
            "52 CandidateInfoTuple(isNodule_bool=True, diameter_mm=6.972916889, series_uid='1.3.6.1.4.1.14519.5.2.1.6279.6001.305858704835252413616501469037', center_xyz=(-60.82, 227.03, -378.95))\n",
            "53 CandidateInfoTuple(isNodule_bool=True, diameter_mm=6.800248866, series_uid='1.3.6.1.4.1.14519.5.2.1.6279.6001.129055977637338639741695800950', center_xyz=(-95.430332199, -87.6984598229, 1131.88013133))\n",
            "54 CandidateInfoTuple(isNodule_bool=True, diameter_mm=6.779556482, series_uid='1.3.6.1.4.1.14519.5.2.1.6279.6001.134996872583497382954024478441', center_xyz=(99.534526984, -25.0008193614, -199.759483337))\n",
            "55 CandidateInfoTuple(isNodule_bool=True, diameter_mm=6.720277435, series_uid='1.3.6.1.4.1.14519.5.2.1.6279.6001.126264578931778258890371755354', center_xyz=(59.73, -157.0, -119.49))\n",
            "56 CandidateInfoTuple(isNodule_bool=True, diameter_mm=6.673547135, series_uid='1.3.6.1.4.1.14519.5.2.1.6279.6001.219909753224298157409438012179', center_xyz=(99.3146639166, 66.0098225079, -90.5268699307))\n",
            "57 CandidateInfoTuple(isNodule_bool=True, diameter_mm=6.614419285, series_uid='1.3.6.1.4.1.14519.5.2.1.6279.6001.323859712968543712594665815359', center_xyz=(-56.75, 44.15, -79.6))\n",
            "58 CandidateInfoTuple(isNodule_bool=True, diameter_mm=6.440878725, series_uid='1.3.6.1.4.1.14519.5.2.1.6279.6001.108197895896446896160048741492', center_xyz=(-100.46, 68.01, -230.55))\n",
            "59 CandidateInfoTuple(isNodule_bool=True, diameter_mm=6.430802339, series_uid='1.3.6.1.4.1.14519.5.2.1.6279.6001.868211851413924881662621747734', center_xyz=(-22.82, 77.77, -135.81))\n",
            "60 CandidateInfoTuple(isNodule_bool=True, diameter_mm=6.401625027, series_uid='1.3.6.1.4.1.14519.5.2.1.6279.6001.213140617640021803112060161074', center_xyz=(108.778555324, 229.013231915, -721.207828036))\n",
            "61 CandidateInfoTuple(isNodule_bool=True, diameter_mm=6.305539247, series_uid='1.3.6.1.4.1.14519.5.2.1.6279.6001.188376349804761988217597754952', center_xyz=(79.21, 210.52, -464.74))\n",
            "62 CandidateInfoTuple(isNodule_bool=True, diameter_mm=6.275342115, series_uid='1.3.6.1.4.1.14519.5.2.1.6279.6001.295298571102631191572192562523', center_xyz=(60.55, 6.89, -165.21))\n",
            "63 CandidateInfoTuple(isNodule_bool=True, diameter_mm=6.259551508, series_uid='1.3.6.1.4.1.14519.5.2.1.6279.6001.141069661700670042960678408762', center_xyz=(-102.01, 248.56, -739.43))\n",
            "64 CandidateInfoTuple(isNodule_bool=True, diameter_mm=6.246461343, series_uid='1.3.6.1.4.1.14519.5.2.1.6279.6001.832260670372728970918746541371', center_xyz=(23.2, 36.79, -85.53))\n",
            "65 CandidateInfoTuple(isNodule_bool=True, diameter_mm=6.242190906, series_uid='1.3.6.1.4.1.14519.5.2.1.6279.6001.249530219848512542668813996730', center_xyz=(145.81, 33.61, -189.8))\n",
            "66 CandidateInfoTuple(isNodule_bool=True, diameter_mm=6.21739005, series_uid='1.3.6.1.4.1.14519.5.2.1.6279.6001.640729228179368154416184318668', center_xyz=(-113.17, -225.85, -199.99))\n",
            "67 CandidateInfoTuple(isNodule_bool=True, diameter_mm=6.13100107, series_uid='1.3.6.1.4.1.14519.5.2.1.6279.6001.832260670372728970918746541371', center_xyz=(-126.724423175, 80.9467845003, -221.131923212))\n",
            "68 CandidateInfoTuple(isNodule_bool=True, diameter_mm=6.005399015, series_uid='1.3.6.1.4.1.14519.5.2.1.6279.6001.281489753704424911132261151767', center_xyz=(110.14, -31.2, -241.36))\n",
            "69 CandidateInfoTuple(isNodule_bool=True, diameter_mm=5.965579845, series_uid='1.3.6.1.4.1.14519.5.2.1.6279.6001.534083630500464995109143618896', center_xyz=(-86.8, 56.07, -112.26))\n",
            "70 CandidateInfoTuple(isNodule_bool=True, diameter_mm=5.722280115, series_uid='1.3.6.1.4.1.14519.5.2.1.6279.6001.294188507421106424248264912111', center_xyz=(100.03, 54.1, -256.65))\n",
            "71 CandidateInfoTuple(isNodule_bool=True, diameter_mm=5.6734543, series_uid='1.3.6.1.4.1.14519.5.2.1.6279.6001.295298571102631191572192562523', center_xyz=(-132.04, -3.6, -221.38))\n",
            "72 CandidateInfoTuple(isNodule_bool=True, diameter_mm=5.654138498, series_uid='1.3.6.1.4.1.14519.5.2.1.6279.6001.313605260055394498989743099991', center_xyz=(-104.595743227, -65.0387901544, -152.824022564))\n",
            "73 CandidateInfoTuple(isNodule_bool=True, diameter_mm=5.556944532, series_uid='1.3.6.1.4.1.14519.5.2.1.6279.6001.294188507421106424248264912111', center_xyz=(-85.01, 53.4, -281.93))\n",
            "74 CandidateInfoTuple(isNodule_bool=True, diameter_mm=5.525559329, series_uid='1.3.6.1.4.1.14519.5.2.1.6279.6001.724251104254976962355686318345', center_xyz=(93.83, 183.12, -518.99))\n",
            "75 CandidateInfoTuple(isNodule_bool=True, diameter_mm=5.357746933, series_uid='1.3.6.1.4.1.14519.5.2.1.6279.6001.188376349804761988217597754952', center_xyz=(-100.11, 179.7, -498.43))\n",
            "76 CandidateInfoTuple(isNodule_bool=True, diameter_mm=5.313818163, series_uid='1.3.6.1.4.1.14519.5.2.1.6279.6001.826812708000318290301835871780', center_xyz=(-53.5, -50.62, -137.83))\n",
            "77 CandidateInfoTuple(isNodule_bool=True, diameter_mm=5.253525386, series_uid='1.3.6.1.4.1.14519.5.2.1.6279.6001.241570579760883349458693655367', center_xyz=(-124.08, 127.67, 1633.06))\n",
            "78 CandidateInfoTuple(isNodule_bool=True, diameter_mm=5.247278653, series_uid='1.3.6.1.4.1.14519.5.2.1.6279.6001.293757615532132808762625441831', center_xyz=(-67.45, -40.62, -172.12))\n",
            "79 CandidateInfoTuple(isNodule_bool=True, diameter_mm=5.127950372, series_uid='1.3.6.1.4.1.14519.5.2.1.6279.6001.868211851413924881662621747734', center_xyz=(-8.81, 58.85, -109.84))\n",
            "80 CandidateInfoTuple(isNodule_bool=True, diameter_mm=5.104384596, series_uid='1.3.6.1.4.1.14519.5.2.1.6279.6001.323859712968543712594665815359', center_xyz=(-80.59, -74.34, -114.66))\n",
            "81 CandidateInfoTuple(isNodule_bool=True, diameter_mm=5.090964239, series_uid='1.3.6.1.4.1.14519.5.2.1.6279.6001.534083630500464995109143618896', center_xyz=(-41.95, -2.79, -114.37))\n",
            "82 CandidateInfoTuple(isNodule_bool=True, diameter_mm=5.063233243, series_uid='1.3.6.1.4.1.14519.5.2.1.6279.6001.404364125369979066736354549484', center_xyz=(97.84, -79.43, -202.46))\n",
            "83 CandidateInfoTuple(isNodule_bool=True, diameter_mm=5.060034849, series_uid='1.3.6.1.4.1.14519.5.2.1.6279.6001.303421828981831854739626597495', center_xyz=(91.25, 136.51, 1521.6))\n",
            "84 CandidateInfoTuple(isNodule_bool=True, diameter_mm=5.05940652, series_uid='1.3.6.1.4.1.14519.5.2.1.6279.6001.130438550890816550994739120843', center_xyz=(88.4711209658, 32.9338043994, -78.2315830223))\n",
            "85 CandidateInfoTuple(isNodule_bool=True, diameter_mm=5.028864971, series_uid='1.3.6.1.4.1.14519.5.2.1.6279.6001.272042302501586336192628818865', center_xyz=(36.8743693547, 178.560521522, -603.254348044))\n",
            "86 CandidateInfoTuple(isNodule_bool=True, diameter_mm=4.813145858, series_uid='1.3.6.1.4.1.14519.5.2.1.6279.6001.219087313261026510628926082729', center_xyz=(-61.1318931033, 224.376802237, -633.722209393))\n",
            "87 CandidateInfoTuple(isNodule_bool=True, diameter_mm=4.784886899, series_uid='1.3.6.1.4.1.14519.5.2.1.6279.6001.213140617640021803112060161074', center_xyz=(96.5080202269, 213.298021661, -613.21058414))\n",
            "88 CandidateInfoTuple(isNodule_bool=True, diameter_mm=4.717405126, series_uid='1.3.6.1.4.1.14519.5.2.1.6279.6001.277445975068759205899107114231', center_xyz=(-48.6932637254, -65.6001064436, -209.327417951))\n",
            "89 CandidateInfoTuple(isNodule_bool=True, diameter_mm=4.683570528, series_uid='1.3.6.1.4.1.14519.5.2.1.6279.6001.249530219848512542668813996730', center_xyz=(-100.6, 38.45, -117.3))\n",
            "90 CandidateInfoTuple(isNodule_bool=True, diameter_mm=4.681381581, series_uid='1.3.6.1.4.1.14519.5.2.1.6279.6001.111172165674661221381920536987', center_xyz=(136.31, 116.67, -181.89))\n",
            "91 CandidateInfoTuple(isNodule_bool=True, diameter_mm=4.678130013, series_uid='1.3.6.1.4.1.14519.5.2.1.6279.6001.898642529028521482602829374444', center_xyz=(-41.92, 92.28, -566.23))\n",
            "92 CandidateInfoTuple(isNodule_bool=True, diameter_mm=4.36498067, series_uid='1.3.6.1.4.1.14519.5.2.1.6279.6001.295420274214095686326263147663', center_xyz=(-68.45, 88.75, -190.46))\n",
            "93 CandidateInfoTuple(isNodule_bool=True, diameter_mm=4.315291242, series_uid='1.3.6.1.4.1.14519.5.2.1.6279.6001.534083630500464995109143618896', center_xyz=(114.247666457, -37.1199002155, -138.729666881))\n",
            "94 CandidateInfoTuple(isNodule_bool=True, diameter_mm=4.09125367, series_uid='1.3.6.1.4.1.14519.5.2.1.6279.6001.295420274214095686326263147663', center_xyz=(-65.9640510945, 81.2984155672, -179.11789495))\n",
            "95 CandidateInfoTuple(isNodule_bool=True, diameter_mm=3.661014906, series_uid='1.3.6.1.4.1.14519.5.2.1.6279.6001.216882370221919561230873289517', center_xyz=(-86.81, -17.42, -51.97))\n",
            "96 CandidateInfoTuple(isNodule_bool=True, diameter_mm=0.0, series_uid='1.3.6.1.4.1.14519.5.2.1.6279.6001.905371958588660410240398317235', center_xyz=(110.83, 57.69, -122.43))\n",
            "97 CandidateInfoTuple(isNodule_bool=True, diameter_mm=0.0, series_uid='1.3.6.1.4.1.14519.5.2.1.6279.6001.905371958588660410240398317235', center_xyz=(103.710144289, 42.3480198092, -119.266765088))\n",
            "98 CandidateInfoTuple(isNodule_bool=True, diameter_mm=0.0, series_uid='1.3.6.1.4.1.14519.5.2.1.6279.6001.898642529028521482602829374444', center_xyz=(75.62, 111.88, -533.24))\n",
            "99 CandidateInfoTuple(isNodule_bool=True, diameter_mm=0.0, series_uid='1.3.6.1.4.1.14519.5.2.1.6279.6001.805925269324902055566754756843', center_xyz=(-73.46, 97.11, -267.55))\n"
          ],
          "name": "stdout"
        }
      ]
    },
    {
      "cell_type": "code",
      "metadata": {
        "id": "ch6n2utVtVNr",
        "outputId": "571ce7d7-f35f-46ff-9941-f211475ed0f9",
        "colab": {
          "base_uri": "https://localhost:8080/",
          "height": 514
        }
      },
      "source": [
        "series_uid = positiveSample_list[11][2]\n",
        "print(series_uid)\n",
        "showCandidate(series_uid)\n"
      ],
      "execution_count": 36,
      "outputs": [
        {
          "output_type": "stream",
          "text": [
            "2021-06-10 20:56:51,960 INFO     pid:62 lungCancerSegmentation.code.datasets:174:__init__ <lungCancerSegmentation.code.datasets.LunaDataset object at 0x7fbb47543bd0>: 548 training samples\n"
          ],
          "name": "stderr"
        },
        {
          "output_type": "stream",
          "text": [
            "1.3.6.1.4.1.14519.5.2.1.6279.6001.213140617640021803112060161074\n"
          ],
          "name": "stdout"
        },
        {
          "output_type": "error",
          "ename": "IndexError",
          "evalue": "ignored",
          "traceback": [
            "\u001b[0;31m---------------------------------------------------------------------------\u001b[0m",
            "\u001b[0;31mIndexError\u001b[0m                                Traceback (most recent call last)",
            "\u001b[0;32m<ipython-input-36-d28a2f832b6e>\u001b[0m in \u001b[0;36m<module>\u001b[0;34m()\u001b[0m\n\u001b[1;32m      1\u001b[0m \u001b[0mseries_uid\u001b[0m \u001b[0;34m=\u001b[0m \u001b[0mpositiveSample_list\u001b[0m\u001b[0;34m[\u001b[0m\u001b[0;36m11\u001b[0m\u001b[0;34m]\u001b[0m\u001b[0;34m[\u001b[0m\u001b[0;36m2\u001b[0m\u001b[0;34m]\u001b[0m\u001b[0;34m\u001b[0m\u001b[0;34m\u001b[0m\u001b[0m\n\u001b[1;32m      2\u001b[0m \u001b[0mprint\u001b[0m\u001b[0;34m(\u001b[0m\u001b[0mseries_uid\u001b[0m\u001b[0;34m)\u001b[0m\u001b[0;34m\u001b[0m\u001b[0;34m\u001b[0m\u001b[0m\n\u001b[0;32m----> 3\u001b[0;31m \u001b[0mshowCandidate\u001b[0m\u001b[0;34m(\u001b[0m\u001b[0mseries_uid\u001b[0m\u001b[0;34m)\u001b[0m\u001b[0;34m\u001b[0m\u001b[0;34m\u001b[0m\u001b[0m\n\u001b[0m",
            "\u001b[0;32m/content/lungCancerSegmentation/code/vis.py\u001b[0m in \u001b[0;36mshowCandidate\u001b[0;34m(series_uid, batch_ndx, **kwargs)\u001b[0m\n\u001b[1;32m     34\u001b[0m             \u001b[0mbatch_ndx\u001b[0m \u001b[0;34m=\u001b[0m \u001b[0;36m0\u001b[0m\u001b[0;34m\u001b[0m\u001b[0;34m\u001b[0m\u001b[0m\n\u001b[1;32m     35\u001b[0m \u001b[0;34m\u001b[0m\u001b[0m\n\u001b[0;32m---> 36\u001b[0;31m     \u001b[0mct\u001b[0m \u001b[0;34m=\u001b[0m \u001b[0mCt\u001b[0m\u001b[0;34m(\u001b[0m\u001b[0mseries_uid\u001b[0m\u001b[0;34m)\u001b[0m\u001b[0;34m\u001b[0m\u001b[0;34m\u001b[0m\u001b[0m\n\u001b[0m\u001b[1;32m     37\u001b[0m     \u001b[0mct_t\u001b[0m\u001b[0;34m,\u001b[0m \u001b[0mpos_t\u001b[0m\u001b[0;34m,\u001b[0m \u001b[0mseries_uid\u001b[0m\u001b[0;34m,\u001b[0m \u001b[0mcenter_irc\u001b[0m \u001b[0;34m=\u001b[0m \u001b[0mds\u001b[0m\u001b[0;34m[\u001b[0m\u001b[0mbatch_ndx\u001b[0m\u001b[0;34m]\u001b[0m\u001b[0;34m\u001b[0m\u001b[0;34m\u001b[0m\u001b[0m\n\u001b[1;32m     38\u001b[0m     \u001b[0mct_a\u001b[0m \u001b[0;34m=\u001b[0m \u001b[0mct_t\u001b[0m\u001b[0;34m[\u001b[0m\u001b[0;36m0\u001b[0m\u001b[0;34m]\u001b[0m\u001b[0;34m.\u001b[0m\u001b[0mnumpy\u001b[0m\u001b[0;34m(\u001b[0m\u001b[0;34m)\u001b[0m\u001b[0;34m\u001b[0m\u001b[0;34m\u001b[0m\u001b[0m\n",
            "\u001b[0;32m/content/lungCancerSegmentation/code/datasets.py\u001b[0m in \u001b[0;36m__init__\u001b[0;34m(self, series_uid)\u001b[0m\n\u001b[1;32m     86\u001b[0m         mhd_path = glob.glob(\n\u001b[1;32m     87\u001b[0m             \u001b[0;34m'/content/lungCancerSegmentation/data/subset_*/{}.mhd'\u001b[0m\u001b[0;34m.\u001b[0m\u001b[0mformat\u001b[0m\u001b[0;34m(\u001b[0m\u001b[0mseries_uid\u001b[0m\u001b[0;34m)\u001b[0m\u001b[0;34m\u001b[0m\u001b[0;34m\u001b[0m\u001b[0m\n\u001b[0;32m---> 88\u001b[0;31m         )[0]\n\u001b[0m\u001b[1;32m     89\u001b[0m \u001b[0;34m\u001b[0m\u001b[0m\n\u001b[1;32m     90\u001b[0m         \u001b[0mct_mhd\u001b[0m \u001b[0;34m=\u001b[0m \u001b[0msitk\u001b[0m\u001b[0;34m.\u001b[0m\u001b[0mReadImage\u001b[0m\u001b[0;34m(\u001b[0m\u001b[0mmhd_path\u001b[0m\u001b[0;34m)\u001b[0m\u001b[0;34m\u001b[0m\u001b[0;34m\u001b[0m\u001b[0m\n",
            "\u001b[0;31mIndexError\u001b[0m: list index out of range"
          ]
        }
      ]
    },
    {
      "cell_type": "code",
      "metadata": {
        "id": "9cCo60lu6aM0",
        "colab": {
          "base_uri": "https://localhost:8080/"
        },
        "outputId": "728b0e06-de48-4102-d69e-4255f6c36e7c"
      },
      "source": [
        "#see what the tuples that are loaded by the sitk package look like\n",
        "mhd_path = \"/content/data/subset_0/1.3.6.1.4.1.14519.5.2.1.6279.6001.105756658031515062000744821260.mhd\"\n",
        "ct_mhd = sitk.ReadImage(mhd_path)\n",
        "print(ct_mhd.GetOrigin()) #the offset of the origin in mm \n",
        "print(ct_mhd.GetSpacing()) #size of each voxel in mm\n",
        "print(ct_mhd.GetDirection()) #flattened transformation matrix"
      ],
      "execution_count": 35,
      "outputs": [
        {
          "output_type": "stream",
          "text": [
            "(-198.100006, -195.0, -335.209991)\n",
            "(0.7617189884185791, 0.7617189884185791, 2.5)\n",
            "(1.0, 0.0, 0.0, 0.0, 1.0, 0.0, 0.0, 0.0, 1.0)\n"
          ],
          "name": "stdout"
        }
      ]
    },
    {
      "cell_type": "code",
      "metadata": {
        "id": "IP9zGpMcAdxE"
      },
      "source": [
        ""
      ],
      "execution_count": 15,
      "outputs": []
    }
  ]
}